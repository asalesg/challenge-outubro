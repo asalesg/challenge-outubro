{
 "cells": [
  {
   "cell_type": "code",
   "execution_count": 2,
   "id": "c1523cc3",
   "metadata": {},
   "outputs": [],
   "source": [
    "import requests\n",
    "import json"
   ]
  },
  {
   "cell_type": "code",
   "execution_count": 4,
   "id": "9838bd25",
   "metadata": {},
   "outputs": [
    {
     "name": "stdout",
     "output_type": "stream",
     "text": [
      "998\n",
      "{'hair': 'brown', 'eyes_raw': 'Brown', 'reward_text': None, 'nationality': 'American', 'possible_countries': None, 'coordinates': [], 'languages': None, 'description': 'Violated Conditions of Release Pending Sentencing', 'person_classification': 'Main', 'weight_min': 280, 'weight_max': 280, 'remarks': None, 'possible_states': None, 'reward_min': 0, 'reward_max': 0, 'modified': '2023-09-11T00:00:24+00:00', 'aliases': None, 'url': 'https://www.fbi.gov/wanted/additional/christopher-john-worrell', 'details': None, 'title': 'CHRISTOPHER JOHN WORRELL', 'hair_raw': 'Brown', 'ncic': 'W932984717', 'additional_information': None, 'locations': None, 'age_range': None, 'poster_classification': 'default', 'uid': '777ceebf76c14fd7aa8f3ced4f98be76', 'occupations': None, 'images': [{'original': 'https://www.fbi.gov/wanted/additional/christopher-john-worrell/@@images/image', 'thumb': 'https://www.fbi.gov/wanted/additional/christopher-john-worrell/@@images/image/thumb', 'large': 'https://www.fbi.gov/wanted/additional/christopher-john-worrell/@@images/image/large', 'caption': None}], 'race': 'white', 'sex': 'Male', 'height_max': 75, 'scars_and_marks': None, 'publication': '2023-08-18T11:20:00', 'warning_message': None, 'place_of_birth': 'New York', 'suspects': None, 'subjects': ['Additional Violent Crimes'], 'status': 'na', 'complexion': None, 'caution': '<p>Christopher John Worrell is wanted for violating conditions of release pending sentencing on federal charges related to the violence at the United States Capitol in Washington,\\xa0D.C., on January 6, 2021.\\xa0\\xa0A federal arrest warrant was issued for Worrell in the United States District Court, District of Columbia, Washington, D.C., on August\\xa015, 2023.</p>', 'weight': '280 pounds', 'legat_names': None, 'age_min': None, 'path': '/wanted/additional/christopher-john-worrell', 'files': [{'name': 'English', 'url': 'https://www.fbi.gov/wanted/additional/christopher-john-worrell/download.pdf'}], 'field_offices': ['tampa', 'washingtondc'], 'build': None, 'dates_of_birth_used': ['June 26, 1971'], 'height_min': 75, 'eyes': 'brown', 'race_raw': 'White', 'age_max': None, '@id': 'https://api.fbi.gov/@wanted-person/777ceebf76c14fd7aa8f3ced4f98be76'}\n"
     ]
    }
   ],
   "source": [
    "response = requests.get('https://api.fbi.gov/wanted/v1/list')\n",
    "data = json.loads(response.content)\n",
    "print(data['total'])\n",
    "print(data['items'][0])"
   ]
  },
  {
   "cell_type": "code",
   "execution_count": null,
   "id": "10415eb5",
   "metadata": {},
   "outputs": [],
   "source": []
  }
 ],
 "metadata": {
  "kernelspec": {
   "display_name": "Python 3 (ipykernel)",
   "language": "python",
   "name": "python3"
  },
  "language_info": {
   "codemirror_mode": {
    "name": "ipython",
    "version": 3
   },
   "file_extension": ".py",
   "mimetype": "text/x-python",
   "name": "python",
   "nbconvert_exporter": "python",
   "pygments_lexer": "ipython3",
   "version": "3.11.3"
  }
 },
 "nbformat": 4,
 "nbformat_minor": 5
}
